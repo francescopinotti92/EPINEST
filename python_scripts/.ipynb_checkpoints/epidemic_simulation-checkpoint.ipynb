{
 "cells": [
  {
   "cell_type": "code",
   "execution_count": 3,
   "id": "93cabb96",
   "metadata": {},
   "outputs": [],
   "source": [
    "import os\n",
    "import sys\n",
    "import json\n",
    "import numpy as np\n",
    "\n",
    "path_modules = './modules'\n",
    "\n",
    "if path_modules not in sys.path:\n",
    "    sys.path.insert( 0, path_modules )\n",
    "    \n",
    "from parsing_config import generate_configuration_files\n",
    "from setup_single_scenario_2 import setup_single_scenario_Bangladesh_2\n",
    "\n",
    "%load_ext autoreload\n",
    "%autoreload 2"
   ]
  },
  {
   "cell_type": "markdown",
   "id": "f84b7667",
   "metadata": {},
   "source": [
    "# Explanation\n",
    "\n",
    "This notebook shows how to specify model parameters and generate all the files that are necessary in order to run a simple simulation.\n",
    "\n",
    "In this simulation, one pathogen is introduced\n"
   ]
  },
  {
   "cell_type": "markdown",
   "id": "e1d37b82",
   "metadata": {},
   "source": [
    "The following cell creates a dictionary (`simulation_settings`) with all the required specifications. Some parameters are specified in external files whose path appears as an entry in `simulation_settings`."
   ]
  },
  {
   "cell_type": "code",
   "execution_count": 4,
   "id": "4f80478f",
   "metadata": {},
   "outputs": [],
   "source": [
    "#========== The Master file ==========#\n",
    "\n",
    "n_areas = 50\n",
    "n_markets = 20 \n",
    "n_farms = 1200\n",
    "\n",
    "flux_params_path = os.path.join( os.getcwd(), 'data/Catchment area per MARKET BR OnlyMMs - noCK.csv' )\n",
    "geo_path = os.path.join( os.getcwd(), 'data/bangladesh_shp' )\n",
    "vendor_params_path = os.path.join( os.getcwd(), 'data/vendorParams_BR_DHAKA.json' )\n",
    "mman_params_path = os.path.join( os.getcwd(), 'data/middlemenParams_BR_DHAKA.json' )\n",
    "\n",
    "simulation_settings = {\n",
    "    # general settings (do not vary between scenarios)\n",
    "    'general_settings': {\n",
    "        'folder_analysis': './baseline',\n",
    "        'n_realizations': 1, # generates a single realisation\n",
    "        'Tmax': 2001,                # maximum simulation time (days)\n",
    "        'bts': [['BR']],               # bird species considered\n",
    "        'mmanBatchSizeScaling': 1.,  # scale mman capacity (relative to input)\n",
    "        'mmanTotalSizeScaling': 1.4,  # scale max bird volume handled by middlemen (relative to farm output) \n",
    "        'vendorTotalSizeScaling': 2.,  # scale max bird volume handled by vendors (relative to middleman output)\n",
    "        'mmanMinSize': 1,     # min mman capacity\n",
    "        'vendorMinSize': 1,   # min vendor capacity\n",
    "    },\n",
    "    \n",
    "    # parameters necessary to generate a population\n",
    "    'popgenerator_settings': {\n",
    "        'flux_params': { # area-to-market flux generation\n",
    "            'mode': 'raw',\n",
    "            'n_areas': n_areas,\n",
    "            'districts': [['DHAKA']],\n",
    "            '_paths_raw_flux': {\n",
    "            'mode': 'raw',\n",
    "            'BR': flux_params_path\n",
    "            }\n",
    "        },\n",
    "        'geography_params': { # path to file defining geography\n",
    "              'path_geo': geo_path\n",
    "        },\n",
    "      \n",
    "        'market_params': { # market parameters\n",
    "            'n_markets': n_markets,\n",
    "            'n_layers': 2,\n",
    "            '_prop_birds_market': { 'BR': { # creates markets with two layers and retailers only\n",
    "                    'W': [0., 0.],\n",
    "                    'R': [1., 0.]\n",
    "                }\n",
    "            },\n",
    "            \n",
    "        },\n",
    "        'market_network_params': { # inter-market mobility network settings\n",
    "            'mode': 'generative_mixed_attachment_model',\n",
    "            'rho_market': 0.1,\n",
    "            'p_random_market': 1., \n",
    "            'self_w_market': 0.8,\n",
    "            'het_w_market': np.inf\n",
    "        },\n",
    "        'farm_params': { # farm settings\n",
    "            'n_farms': n_farms, # number of farms\n",
    "            'p_random_farms': 0.3, # probability to scatter a farm at random (rather than prop. to flux)\n",
    "            '_params_farm_size':        { 'BR': { 'mode': 'Constant', 'Size': {'mode': 'NegativeBinomial', 'p': 0.003544, 'n': 5.245, 'bounds': [600,4180]} } },\n",
    "            '_params_farm_minrollout':  { 'BR': { 'mode': 'Constant', 'rollout_time': {'mode': 'Custom', 'values':[1,2,3,4], 'pmf':[0.2,0.3,0.3,0.2]} } },\n",
    "            '_params_farm_refill_time': { 'BR': { 'mode': 'NegativeBinomial', 'p_refill': 0.2013, 'n_refill': 4.488 } } \n",
    "        }\n",
    "    },\n",
    "    'mmen_settings': {\n",
    "        'param_path': mman_params_path, # path to middleman settings\n",
    "    },\n",
    "    'vendor_settings': {\n",
    "        'param_path': vendor_params_path, # path to vendor settings\n",
    "    },\n",
    "    \n",
    "    'epi_params' : {\n",
    "        'nStrains': 1, # number of strains\n",
    "        'timeStepSize': 1,\n",
    "        'Tintro': 1700, # pathogen introducton time\n",
    "        'sparkRate': 0.0005, # pathogen introduction probability \n",
    "        'transmissibility': [[0.2]], # pathogen transmissibility\n",
    "        'expectedIncubationTimes': [[6.]], # mean latent period (in hours)\n",
    "        'expectedRecoveryTimes': [[48.]],   # mean infectious period (in hours)\n",
    "        'transmissibilityEnvironment': 0.0, # environmental contamination parameter\n",
    "        'environmentDecayProb': 1.0, # environmental contamination parameter\n",
    "        'birdEnvironmentSheddingProb': 0.0, # environmental contamination parameter\n",
    "        'FarmSpatialKernelSizeExponentA': 1., # Spatial kernel transmission param: effect of source farm size\n",
    "        'FarmSpatialKernelSizeExponentB': 1., # Spatial kernel transmission param: effect of source farm size\n",
    "        'FarmSpatialKernelType': \"HillLikeParetoKernel\", # Spatial kernel type\n",
    "        'FarmSpatialGridLambda': 15., # Helps with spatial gridding for speeding up spatial transmission\n",
    "        'FarmSpatialKernelExponent': 0.94, # Spatial Kernel exponent\n",
    "        'FarmSpatialKernelDistMin': 0.1, # in Km\n",
    "        'FarmSpatialKernelCoefficient': 5 * 1e-11,\n",
    "        '_settingSpecificWeights': { 'Farm': { 'mode': 'constant', 'weight': 0.2 }, # transmission multiplier within different settings\n",
    "                                     'Middleman': { 'mode': 'constant', 'weight': 1. },\n",
    "                                     'Market': { 'mode': 'constant', 'weight': 1. }, \n",
    "                                     'Vendor': { 'mode': 'constant', 'weight': 1. } }\n",
    "    },\n",
    "    '_outputParams': { # parameters defining output options \n",
    "        'birdTransactions': { # a) Prints info about individual bird transactions\n",
    "            'logTransactionsFarm2Mman': False, \n",
    "            'logTransactionsMman2Vendor': False, \n",
    "            'logTransactionsVendor2Vendor': False, \n",
    "            'logTransactionsVendor2Community': False, \n",
    "            'logTransactionDayStart': 1400, # starts logging transactions from this time point\n",
    "            'logTransactionDayStop': 1801,  # stops logging transactions at this time point\n",
    "            'transactionBufferSize': 1000, \n",
    "            'transactionOutputFolderPath': '',\n",
    "        },\n",
    "        'individualInfectionOutput': { # b) Infection event output\n",
    "            'trackIndividualInfections': True, # does not log anything\n",
    "            'trackIndividualInfectionMode': 'WIW', # this tracks and prints every single infection\n",
    "            'tStartTracking': 1700, # in days\n",
    "            'tStopTracking': 1800,  # in days\n",
    "            'pathToFile': '',\n",
    "            'fileName': 'incidence_info',\n",
    "            'fileExtension': 'txt'\n",
    "        },\n",
    "        'crossSectionalAnalyses': { #  c) cross-sectional analysis\n",
    "           'infectedFarms': {\n",
    "                'pathToFile': '',\n",
    "                'fileName': 'infected_farms',\n",
    "                'fileExtension': 'txt',\n",
    "                'period': 1, # in days\n",
    "                'hours': [8], # in hours  \n",
    "           },\n",
    "        'prevalenceBySettingType': {\n",
    "                'pathToFile': '',\n",
    "                'fileName': 'prevalence_by_setting',\n",
    "                'fileExtension': 'txt',\n",
    "                'period': 1, # in days\n",
    "                'hours': list( range( 24 ) ), # in hours\n",
    "                'tmin': 1700 * 24\n",
    "           },\n",
    "        'birdCountBySettingType': {\n",
    "                'pathToFile': '',\n",
    "                'fileName': 'birdcount_by_setting',\n",
    "                'fileExtension': 'txt',\n",
    "                'period': 1, # in days\n",
    "                'hours': list( range( 24 ) ), # in hours\n",
    "                'tmin': 1700 * 24\n",
    "           }\n",
    "        }, #  c) tracking birds leaving the system\n",
    "        'birdExitAnalyses': {\n",
    "        }, #  d) tracking crops of birds\n",
    "        'completedCropAnalyses': { # prints stats about individual production cycles in farms\n",
    "            \"epiStatsCrops\": {\n",
    "                'pathToFile': '',\n",
    "                'fileName': 'crop_stats',\n",
    "                'fileExtension': 'txt',\n",
    "            }\n",
    "        }  \n",
    "    },\n",
    "}"
   ]
  },
  {
   "cell_type": "markdown",
   "id": "0a0af9be",
   "metadata": {},
   "source": [
    "The function `generate_configuration_files` takes `simulation_settings` as an input and parses it."
   ]
  },
  {
   "cell_type": "code",
   "execution_count": 7,
   "id": "7f4ddf84",
   "metadata": {},
   "outputs": [
    {
     "name": "stdout",
     "output_type": "stream",
     "text": [
      "# of configurations: 1\n"
     ]
    }
   ],
   "source": [
    "#========== Parse master file ==========#\n",
    "\n",
    "baseArgs = generate_configuration_files( simulation_settings )\n",
    "\n",
    "print( '# of configurations:', len( baseArgs ) )"
   ]
  },
  {
   "cell_type": "markdown",
   "id": "bbf78c7c",
   "metadata": {},
   "source": [
    "`baseArgs` is a list of dictionaries whose individual elements are dictionaries containing specifications to generate simulation files for a single scenario. The previous step is necessary since `simulation_settings` may contain specifications to generate multiple scenarios (not explored here).\n",
    "\n",
    "Dictionaries in `baseArgs` can then be passed to `setup_single_scenario_Bangladesh_2`.\n",
    "\n",
    "This function finally generates files required for simulation."
   ]
  },
  {
   "cell_type": "code",
   "execution_count": 8,
   "id": "427d89f0",
   "metadata": {},
   "outputs": [],
   "source": [
    "#========== Generate individual scenarios files ==========#\n",
    "\n",
    "thepath = os.path.join( os.getcwd(), 'epidemic_scenario_files' )\n",
    "\n",
    "for i, tmp in enumerate( baseArgs ):\n",
    "    setup_single_scenario_Bangladesh_2( tmp, i, os.path.join( thepath, 'Config' ),  \n",
    "                                     os.path.join( thepath, 'Output' ) )"
   ]
  },
  {
   "cell_type": "markdown",
   "id": "969fda77",
   "metadata": {},
   "source": [
    "# Running simulations\n",
    "\n",
    "The code above should have generated the folder **epidemic_scenario_files** with sub-folders **epidemic_scenario_files/Config** and **epidemic_scenario_files/Output**. The latter will contain simulation outputs generated by *EPINEST*, while the former should contain simulation input files generated by `setup_single_scenario_Bangladesh_2`."
   ]
  },
  {
   "cell_type": "markdown",
   "id": "1e71d515",
   "metadata": {},
   "source": [
    "*EPINEST* requires the absolute path to the file *settings_0_0.json* as its first input parameter:"
   ]
  },
  {
   "cell_type": "code",
   "execution_count": 9,
   "id": "6cb40d3d",
   "metadata": {},
   "outputs": [
    {
     "name": "stdout",
     "output_type": "stream",
     "text": [
      "Path to settings_0_0.json:\n",
      "/Users/user/Dropbox/backup/modeling_PDN/code_submission/python_scripts/scenario_scenario_files/Config/settings_0_0.json\n"
     ]
    }
   ],
   "source": [
    "print( 'Path to settings_0_0.json:' )\n",
    "print( os.path.join( os.getcwd(), 'scenario_scenario_files/Config/settings_0_0.json' ))"
   ]
  },
  {
   "cell_type": "markdown",
   "id": "15fb9e75",
   "metadata": {},
   "source": [
    "To run *EPINEST*, open the terminal go to *CBM/bin* where the executable **CBMsimulator** is found (after compilation).\n",
    "\n",
    "Then type:\n",
    "\n",
    "`./CBMsimulator path_to_settings 0 1 0`\n",
    "\n",
    "where `path_to_settings` should be replaced with the path to the file *settings_0_0.json* (as obtained above). The resulting code will run a single simulation with random generator seed 0 and write output files to *baseline_scenario_files/Output*.\n",
    "\n",
    "To increase the number of simulations, simply change the third argument in the previous command.\n",
    "\n",
    "To change the random generator seed, simply change the last argument in the previous command."
   ]
  },
  {
   "cell_type": "markdown",
   "id": "569fb543",
   "metadata": {},
   "source": [
    "# Analyse results from one simulation"
   ]
  },
  {
   "cell_type": "code",
   "execution_count": 26,
   "id": "bbf0ef81",
   "metadata": {},
   "outputs": [],
   "source": [
    "import matplotlib.pyplot as plt\n",
    "import pandas as pd\n",
    "from analyse_result import *\n",
    "from analyse_epidemics import *\n",
    "#from popgenerator import compute_area_market_fluxes_parameters_raw_bangladesh"
   ]
  },
  {
   "cell_type": "markdown",
   "id": "770042d8",
   "metadata": {},
   "source": [
    "## Which chicken infected which chicken?\n",
    "\n",
    "The most detailed epidemic output concerns the tree of transmission events, i.e. which chicken infected which chicken.\n",
    "\n",
    "The following file contains the following info (columns) per transmission event (rows):\n",
    "\n",
    "- **i**: infection source\n",
    "- **j**: infection target\n",
    "- **type**: infection type (standard=0,environment-mediated=1,external seeding=2)\n",
    "- **strain**: infecting strain identifier\n",
    "- **t**: infection time\n",
    "- **loc**: infection location\n",
    "- **loctype**: infection location type (farm, middleman,...)\n",
    "- **day**:  infection time in days"
   ]
  },
  {
   "cell_type": "code",
   "execution_count": 61,
   "id": "649f2e87",
   "metadata": {},
   "outputs": [
    {
     "name": "stdout",
     "output_type": "stream",
     "text": [
      "# of transmission events: 12171\n"
     ]
    },
    {
     "data": {
      "text/html": [
       "<div>\n",
       "<style scoped>\n",
       "    .dataframe tbody tr th:only-of-type {\n",
       "        vertical-align: middle;\n",
       "    }\n",
       "\n",
       "    .dataframe tbody tr th {\n",
       "        vertical-align: top;\n",
       "    }\n",
       "\n",
       "    .dataframe thead th {\n",
       "        text-align: right;\n",
       "    }\n",
       "</style>\n",
       "<table border=\"1\" class=\"dataframe\">\n",
       "  <thead>\n",
       "    <tr style=\"text-align: right;\">\n",
       "      <th></th>\n",
       "      <th>i</th>\n",
       "      <th>j</th>\n",
       "      <th>type</th>\n",
       "      <th>strain</th>\n",
       "      <th>t</th>\n",
       "      <th>loc</th>\n",
       "      <th>loctype</th>\n",
       "      <th>day</th>\n",
       "    </tr>\n",
       "  </thead>\n",
       "  <tbody>\n",
       "    <tr>\n",
       "      <th>0</th>\n",
       "      <td>1132-43119</td>\n",
       "      <td>1132-42964</td>\n",
       "      <td>0</td>\n",
       "      <td>0</td>\n",
       "      <td>41387</td>\n",
       "      <td>F1132</td>\n",
       "      <td>F</td>\n",
       "      <td>1724</td>\n",
       "    </tr>\n",
       "    <tr>\n",
       "      <th>1</th>\n",
       "      <td>1132-42020</td>\n",
       "      <td>1132-42671</td>\n",
       "      <td>0</td>\n",
       "      <td>0</td>\n",
       "      <td>41386</td>\n",
       "      <td>F1132</td>\n",
       "      <td>F</td>\n",
       "      <td>1724</td>\n",
       "    </tr>\n",
       "    <tr>\n",
       "      <th>2</th>\n",
       "      <td>1132-43066</td>\n",
       "      <td>1132-42714</td>\n",
       "      <td>0</td>\n",
       "      <td>0</td>\n",
       "      <td>41385</td>\n",
       "      <td>F1132</td>\n",
       "      <td>F</td>\n",
       "      <td>1724</td>\n",
       "    </tr>\n",
       "    <tr>\n",
       "      <th>3</th>\n",
       "      <td>1132-42301</td>\n",
       "      <td>1132-42721</td>\n",
       "      <td>0</td>\n",
       "      <td>0</td>\n",
       "      <td>41385</td>\n",
       "      <td>F1132</td>\n",
       "      <td>F</td>\n",
       "      <td>1724</td>\n",
       "    </tr>\n",
       "    <tr>\n",
       "      <th>4</th>\n",
       "      <td>1132-42069</td>\n",
       "      <td>1132-43014</td>\n",
       "      <td>0</td>\n",
       "      <td>0</td>\n",
       "      <td>41385</td>\n",
       "      <td>F1132</td>\n",
       "      <td>F</td>\n",
       "      <td>1724</td>\n",
       "    </tr>\n",
       "  </tbody>\n",
       "</table>\n",
       "</div>"
      ],
      "text/plain": [
       "            i           j  type  strain      t    loc loctype   day\n",
       "0  1132-43119  1132-42964     0       0  41387  F1132       F  1724\n",
       "1  1132-42020  1132-42671     0       0  41386  F1132       F  1724\n",
       "2  1132-43066  1132-42714     0       0  41385  F1132       F  1724\n",
       "3  1132-42301  1132-42721     0       0  41385  F1132       F  1724\n",
       "4  1132-42069  1132-43014     0       0  41385  F1132       F  1724"
      ]
     },
     "execution_count": 61,
     "metadata": {},
     "output_type": "execute_result"
    }
   ],
   "source": [
    "path = './epidemic_scenario_files/Output/incidence_info_0_0_0.txt'\n",
    "tree = read_infection_tree( path )\n",
    "print( '# of transmission events:', len( tree ) )\n",
    "tree.head()"
   ]
  },
  {
   "cell_type": "code",
   "execution_count": 64,
   "id": "4a40f699",
   "metadata": {},
   "outputs": [
    {
     "data": {
      "text/plain": [
       "<AxesSubplot: xlabel='Time (days)', ylabel='# of infections'>"
      ]
     },
     "execution_count": 64,
     "metadata": {},
     "output_type": "execute_result"
    },
    {
     "data": {
      "image/png": "[encoded data removed]",
      "text/plain": [
       "<Figure size 640x480 with 1 Axes>"
      ]
     },
     "metadata": {},
     "output_type": "display_data"
    }
   ],
   "source": [
    "# plot number of infections per day\n",
    "\n",
    "tree.groupby( 'day' ).size().plot( xlabel = 'Time (days)', ylabel = '# of infections')"
   ]
  },
  {
   "cell_type": "code",
   "execution_count": 83,
   "id": "4ff7d1a5",
   "metadata": {},
   "outputs": [
    {
     "data": {
      "image/png": "[encoded data removed]",
      "text/plain": [
       "<Figure size 640x480 with 1 Axes>"
      ]
     },
     "metadata": {},
     "output_type": "display_data"
    }
   ],
   "source": [
    "# plot the number of infection per setting type\n",
    "tree.groupby( 'loctype' ).size().plot.bar( xlabel = None, ylabel = 'Infection events')\n",
    "plt.tick_params( rotation = 0 )"
   ]
  },
  {
   "cell_type": "markdown",
   "id": "19c68d24",
   "metadata": {},
   "source": [
    "We can use the transmission tree to look at the distribution of offspring sizes, i.e. the number of onward transmission event per infected chicken."
   ]
  },
  {
   "cell_type": "code",
   "execution_count": 76,
   "id": "315d5dbc",
   "metadata": {},
   "outputs": [
    {
     "data": {
      "image/png": "[encoded data removed]",
      "text/plain": [
       "<Figure size 640x480 with 1 Axes>"
      ]
     },
     "metadata": {},
     "output_type": "display_data"
    }
   ],
   "source": [
    "# calculate the distribution\n",
    "offspring_sz_distr = get_offspring_size( tree ).value_counts( normalize = True ).sort_index()\n",
    "\n",
    "# plot it\n",
    "offspring_sz_distr.plot.bar()\n",
    "plt.xlabel( 'Offspring size' )\n",
    "plt.ylabel( 'Frequency' )\n",
    "\n",
    "plt.tick_params( rotation = 0 )"
   ]
  },
  {
   "cell_type": "markdown",
   "id": "fa1dd417",
   "metadata": {},
   "source": [
    "We can also retrieve infection events due to between-farm transmission:"
   ]
  },
  {
   "cell_type": "code",
   "execution_count": 78,
   "id": "153600be",
   "metadata": {},
   "outputs": [
    {
     "data": {
      "text/html": [
       "<div>\n",
       "<style scoped>\n",
       "    .dataframe tbody tr th:only-of-type {\n",
       "        vertical-align: middle;\n",
       "    }\n",
       "\n",
       "    .dataframe tbody tr th {\n",
       "        vertical-align: top;\n",
       "    }\n",
       "\n",
       "    .dataframe thead th {\n",
       "        text-align: right;\n",
       "    }\n",
       "</style>\n",
       "<table border=\"1\" class=\"dataframe\">\n",
       "  <thead>\n",
       "    <tr style=\"text-align: right;\">\n",
       "      <th></th>\n",
       "      <th>i</th>\n",
       "      <th>j</th>\n",
       "      <th>type</th>\n",
       "      <th>strain</th>\n",
       "      <th>t</th>\n",
       "      <th>loc</th>\n",
       "      <th>loctype</th>\n",
       "      <th>day</th>\n",
       "      <th>farm_i</th>\n",
       "      <th>farm_j</th>\n",
       "    </tr>\n",
       "  </thead>\n",
       "  <tbody>\n",
       "    <tr>\n",
       "      <th>10013</th>\n",
       "      <td>320-58889</td>\n",
       "      <td>573-44619</td>\n",
       "      <td>0</td>\n",
       "      <td>0</td>\n",
       "      <td>43104</td>\n",
       "      <td>F573</td>\n",
       "      <td>F</td>\n",
       "      <td>1796</td>\n",
       "      <td>320</td>\n",
       "      <td>573</td>\n",
       "    </tr>\n",
       "    <tr>\n",
       "      <th>10014</th>\n",
       "      <td>320-60431</td>\n",
       "      <td>560-42488</td>\n",
       "      <td>0</td>\n",
       "      <td>0</td>\n",
       "      <td>43104</td>\n",
       "      <td>F560</td>\n",
       "      <td>F</td>\n",
       "      <td>1796</td>\n",
       "      <td>320</td>\n",
       "      <td>560</td>\n",
       "    </tr>\n",
       "    <tr>\n",
       "      <th>10015</th>\n",
       "      <td>320-59880</td>\n",
       "      <td>559-28403</td>\n",
       "      <td>0</td>\n",
       "      <td>0</td>\n",
       "      <td>43104</td>\n",
       "      <td>F559</td>\n",
       "      <td>F</td>\n",
       "      <td>1796</td>\n",
       "      <td>320</td>\n",
       "      <td>559</td>\n",
       "    </tr>\n",
       "    <tr>\n",
       "      <th>10016</th>\n",
       "      <td>320-60368</td>\n",
       "      <td>551-60186</td>\n",
       "      <td>0</td>\n",
       "      <td>0</td>\n",
       "      <td>43104</td>\n",
       "      <td>F551</td>\n",
       "      <td>F</td>\n",
       "      <td>1796</td>\n",
       "      <td>320</td>\n",
       "      <td>551</td>\n",
       "    </tr>\n",
       "    <tr>\n",
       "      <th>10017</th>\n",
       "      <td>320-59301</td>\n",
       "      <td>545-20554</td>\n",
       "      <td>0</td>\n",
       "      <td>0</td>\n",
       "      <td>43104</td>\n",
       "      <td>F545</td>\n",
       "      <td>F</td>\n",
       "      <td>1796</td>\n",
       "      <td>320</td>\n",
       "      <td>545</td>\n",
       "    </tr>\n",
       "    <tr>\n",
       "      <th>10018</th>\n",
       "      <td>320-60555</td>\n",
       "      <td>537-39187</td>\n",
       "      <td>0</td>\n",
       "      <td>0</td>\n",
       "      <td>43104</td>\n",
       "      <td>F537</td>\n",
       "      <td>F</td>\n",
       "      <td>1796</td>\n",
       "      <td>320</td>\n",
       "      <td>537</td>\n",
       "    </tr>\n",
       "    <tr>\n",
       "      <th>10019</th>\n",
       "      <td>320-60322</td>\n",
       "      <td>536-79148</td>\n",
       "      <td>0</td>\n",
       "      <td>0</td>\n",
       "      <td>43104</td>\n",
       "      <td>F536</td>\n",
       "      <td>F</td>\n",
       "      <td>1796</td>\n",
       "      <td>320</td>\n",
       "      <td>536</td>\n",
       "    </tr>\n",
       "    <tr>\n",
       "      <th>10020</th>\n",
       "      <td>320-59547</td>\n",
       "      <td>535-37475</td>\n",
       "      <td>0</td>\n",
       "      <td>0</td>\n",
       "      <td>43104</td>\n",
       "      <td>F535</td>\n",
       "      <td>F</td>\n",
       "      <td>1796</td>\n",
       "      <td>320</td>\n",
       "      <td>535</td>\n",
       "    </tr>\n",
       "    <tr>\n",
       "      <th>10021</th>\n",
       "      <td>320-59505</td>\n",
       "      <td>533-68530</td>\n",
       "      <td>0</td>\n",
       "      <td>0</td>\n",
       "      <td>43104</td>\n",
       "      <td>F533</td>\n",
       "      <td>F</td>\n",
       "      <td>1796</td>\n",
       "      <td>320</td>\n",
       "      <td>533</td>\n",
       "    </tr>\n",
       "    <tr>\n",
       "      <th>10022</th>\n",
       "      <td>320-58940</td>\n",
       "      <td>532-34427</td>\n",
       "      <td>0</td>\n",
       "      <td>0</td>\n",
       "      <td>43104</td>\n",
       "      <td>F532</td>\n",
       "      <td>F</td>\n",
       "      <td>1796</td>\n",
       "      <td>320</td>\n",
       "      <td>532</td>\n",
       "    </tr>\n",
       "    <tr>\n",
       "      <th>10023</th>\n",
       "      <td>320-58914</td>\n",
       "      <td>521-57611</td>\n",
       "      <td>0</td>\n",
       "      <td>0</td>\n",
       "      <td>43104</td>\n",
       "      <td>F521</td>\n",
       "      <td>F</td>\n",
       "      <td>1796</td>\n",
       "      <td>320</td>\n",
       "      <td>521</td>\n",
       "    </tr>\n",
       "    <tr>\n",
       "      <th>10024</th>\n",
       "      <td>320-60126</td>\n",
       "      <td>141-25334</td>\n",
       "      <td>0</td>\n",
       "      <td>0</td>\n",
       "      <td>43104</td>\n",
       "      <td>F141</td>\n",
       "      <td>F</td>\n",
       "      <td>1796</td>\n",
       "      <td>320</td>\n",
       "      <td>141</td>\n",
       "    </tr>\n",
       "    <tr>\n",
       "      <th>10025</th>\n",
       "      <td>320-59938</td>\n",
       "      <td>138-101709</td>\n",
       "      <td>0</td>\n",
       "      <td>0</td>\n",
       "      <td>43104</td>\n",
       "      <td>F138</td>\n",
       "      <td>F</td>\n",
       "      <td>1796</td>\n",
       "      <td>320</td>\n",
       "      <td>138</td>\n",
       "    </tr>\n",
       "    <tr>\n",
       "      <th>11352</th>\n",
       "      <td>537-39034</td>\n",
       "      <td>762-57537</td>\n",
       "      <td>0</td>\n",
       "      <td>0</td>\n",
       "      <td>43176</td>\n",
       "      <td>F762</td>\n",
       "      <td>F</td>\n",
       "      <td>1799</td>\n",
       "      <td>537</td>\n",
       "      <td>762</td>\n",
       "    </tr>\n",
       "    <tr>\n",
       "      <th>11353</th>\n",
       "      <td>537-39253</td>\n",
       "      <td>570-49952</td>\n",
       "      <td>0</td>\n",
       "      <td>0</td>\n",
       "      <td>43176</td>\n",
       "      <td>F570</td>\n",
       "      <td>F</td>\n",
       "      <td>1799</td>\n",
       "      <td>537</td>\n",
       "      <td>570</td>\n",
       "    </tr>\n",
       "    <tr>\n",
       "      <th>11354</th>\n",
       "      <td>537-39034</td>\n",
       "      <td>554-70820</td>\n",
       "      <td>0</td>\n",
       "      <td>0</td>\n",
       "      <td>43176</td>\n",
       "      <td>F554</td>\n",
       "      <td>F</td>\n",
       "      <td>1799</td>\n",
       "      <td>537</td>\n",
       "      <td>554</td>\n",
       "    </tr>\n",
       "    <tr>\n",
       "      <th>11355</th>\n",
       "      <td>537-39218</td>\n",
       "      <td>519-21053</td>\n",
       "      <td>0</td>\n",
       "      <td>0</td>\n",
       "      <td>43176</td>\n",
       "      <td>F519</td>\n",
       "      <td>F</td>\n",
       "      <td>1799</td>\n",
       "      <td>537</td>\n",
       "      <td>519</td>\n",
       "    </tr>\n",
       "    <tr>\n",
       "      <th>11356</th>\n",
       "      <td>537-39450</td>\n",
       "      <td>134-59186</td>\n",
       "      <td>0</td>\n",
       "      <td>0</td>\n",
       "      <td>43176</td>\n",
       "      <td>F134</td>\n",
       "      <td>F</td>\n",
       "      <td>1799</td>\n",
       "      <td>537</td>\n",
       "      <td>134</td>\n",
       "    </tr>\n",
       "    <tr>\n",
       "      <th>11357</th>\n",
       "      <td>537-39034</td>\n",
       "      <td>129-44285</td>\n",
       "      <td>0</td>\n",
       "      <td>0</td>\n",
       "      <td>43176</td>\n",
       "      <td>F129</td>\n",
       "      <td>F</td>\n",
       "      <td>1799</td>\n",
       "      <td>537</td>\n",
       "      <td>129</td>\n",
       "    </tr>\n",
       "  </tbody>\n",
       "</table>\n",
       "</div>"
      ],
      "text/plain": [
       "               i           j  type  strain      t   loc loctype   day farm_i  \\\n",
       "10013  320-58889   573-44619     0       0  43104  F573       F  1796    320   \n",
       "10014  320-60431   560-42488     0       0  43104  F560       F  1796    320   \n",
       "10015  320-59880   559-28403     0       0  43104  F559       F  1796    320   \n",
       "10016  320-60368   551-60186     0       0  43104  F551       F  1796    320   \n",
       "10017  320-59301   545-20554     0       0  43104  F545       F  1796    320   \n",
       "10018  320-60555   537-39187     0       0  43104  F537       F  1796    320   \n",
       "10019  320-60322   536-79148     0       0  43104  F536       F  1796    320   \n",
       "10020  320-59547   535-37475     0       0  43104  F535       F  1796    320   \n",
       "10021  320-59505   533-68530     0       0  43104  F533       F  1796    320   \n",
       "10022  320-58940   532-34427     0       0  43104  F532       F  1796    320   \n",
       "10023  320-58914   521-57611     0       0  43104  F521       F  1796    320   \n",
       "10024  320-60126   141-25334     0       0  43104  F141       F  1796    320   \n",
       "10025  320-59938  138-101709     0       0  43104  F138       F  1796    320   \n",
       "11352  537-39034   762-57537     0       0  43176  F762       F  1799    537   \n",
       "11353  537-39253   570-49952     0       0  43176  F570       F  1799    537   \n",
       "11354  537-39034   554-70820     0       0  43176  F554       F  1799    537   \n",
       "11355  537-39218   519-21053     0       0  43176  F519       F  1799    537   \n",
       "11356  537-39450   134-59186     0       0  43176  F134       F  1799    537   \n",
       "11357  537-39034   129-44285     0       0  43176  F129       F  1799    537   \n",
       "\n",
       "      farm_j  \n",
       "10013    573  \n",
       "10014    560  \n",
       "10015    559  \n",
       "10016    551  \n",
       "10017    545  \n",
       "10018    537  \n",
       "10019    536  \n",
       "10020    535  \n",
       "10021    533  \n",
       "10022    532  \n",
       "10023    521  \n",
       "10024    141  \n",
       "10025    138  \n",
       "11352    762  \n",
       "11353    570  \n",
       "11354    554  \n",
       "11355    519  \n",
       "11356    134  \n",
       "11357    129  "
      ]
     },
     "execution_count": 78,
     "metadata": {},
     "output_type": "execute_result"
    }
   ],
   "source": [
    "dd = get_interfarm_infections( tree )\n",
    "dd"
   ]
  },
  {
   "cell_type": "markdown",
   "id": "27b0166c",
   "metadata": {},
   "source": [
    "## Aggregate outputs\n",
    "\n",
    "*EPINEST* allows to output aggregate epidemiological statistics, such as the total number of infectious chickens per setting type (Farms, Middlemen, Markets, Vendors)\n",
    "\n",
    "The example below looks at prevalence in time in farms and markets"
   ]
  },
  {
   "cell_type": "code",
   "execution_count": 22,
   "id": "d3462efe",
   "metadata": {},
   "outputs": [
    {
     "data": {
      "text/plain": [
       "<matplotlib.legend.Legend at 0x17b765ca0>"
      ]
     },
     "execution_count": 22,
     "metadata": {},
     "output_type": "execute_result"
    },
    {
     "data": {
      "image/png": "[encoded data removed]",
      "text/plain": [
       "<Figure size 640x480 with 1 Axes>"
      ]
     },
     "metadata": {},
     "output_type": "display_data"
    }
   ],
   "source": [
    "# Read file with aggregate prevalence info\n",
    "\n",
    "path = './epidemic_scenario_files/Output/prevalence_by_setting_0_0_0.txt'\n",
    "\n",
    "df = pd.read_csv( path, names = ['t', 'loctype', 'nb', 'ntot'] )\n",
    "df['day'] = df['t'] // 24 # convert time to day\n",
    "df['prev'] = df['nb'] / df['ntot'] # scale number of infected birds by total number of birds\n",
    "\n",
    "\n",
    "fig, ax = plt.subplots()\n",
    "\n",
    "# Plot prevalence in farms\n",
    "df.loc[df['loctype'] == 'F'].plot( x = 'day', y = 'prev', legend = False, ax = ax,\n",
    "                                 xlabel = 'Time (days)', ylabel = 'Prevalence',\n",
    "                                 label = 'Farms')\n",
    "\n",
    "# Plot prevalence in markets\n",
    "df.loc[df['loctype'] == 'M'].plot( x = 'day', y = 'prev', legend = False,ax = ax,\n",
    "                                 xlabel = 'Time (days)', ylabel = 'Prevalence',\n",
    "                                 label = 'Markets')\n",
    "\n",
    "plt.legend()"
   ]
  },
  {
   "cell_type": "markdown",
   "id": "34e4fff9",
   "metadata": {},
   "source": [
    "Next we look at the number of farms holding infected birds."
   ]
  },
  {
   "cell_type": "code",
   "execution_count": 33,
   "id": "117bda8f",
   "metadata": {},
   "outputs": [
    {
     "data": {
      "text/plain": [
       "<AxesSubplot: xlabel='Time (days)', ylabel='# of farms'>"
      ]
     },
     "execution_count": 33,
     "metadata": {},
     "output_type": "execute_result"
    },
    {
     "data": {
      "image/png": "[encoded data removed]",
      "text/plain": [
       "<Figure size 640x480 with 1 Axes>"
      ]
     },
     "metadata": {},
     "output_type": "display_data"
    }
   ],
   "source": [
    "def read_infected_farms( path, sep = ',' ):\n",
    "    with open( path, 'r' ) as ff:\n",
    "        lines = ff.readlines()\n",
    "    \n",
    "    lines = [ line.split( sep ) for line in lines ]\n",
    "    ts = [ [ int( line[0] ) ]*len( line[1:] ) for line in lines ]\n",
    "    farms = [ [ int( f ) for f in line[1:] ] for line in lines ]\n",
    "    \n",
    "    df = pd.DataFrame( { 't':  [ x for xs in ts for x in xs],\n",
    "                         'id': [ x for xs in farms for x in xs] } )\n",
    "    df['day'] = df['t'] // 24\n",
    "    \n",
    "    return df\n",
    "\n",
    "# read infected farms\n",
    "path_infected_farms = './epidemic_scenario_files/Output/infected_farms_0_0_0.txt'\n",
    "dff = read_infected_farms( path_infected_farms )\n",
    "\n",
    "# plot number of infected farms\n",
    "dff.groupby( 'day' ).size().plot( xlabel = 'Time (days)', ylabel = '# of farms' )"
   ]
  },
  {
   "cell_type": "markdown",
   "id": "65efd1ae",
   "metadata": {},
   "source": [
    "Finally, we look at how many chickens are infected per production cycle.\n",
    "\n",
    "Each row in the file below is a different production cycle. **size** is the number of birds reared as part of this cycle and **sizeInf** is the number of birds that became infected."
   ]
  },
  {
   "cell_type": "code",
   "execution_count": 57,
   "id": "9d3b1bc5",
   "metadata": {},
   "outputs": [
    {
     "data": {
      "text/plain": [
       "<matplotlib.legend.Legend at 0x180365e20>"
      ]
     },
     "execution_count": 57,
     "metadata": {},
     "output_type": "execute_result"
    },
    {
     "data": {
      "image/png": "[encoded data removed]",
      "text/plain": [
       "<Figure size 640x480 with 1 Axes>"
      ]
     },
     "metadata": {},
     "output_type": "display_data"
    }
   ],
   "source": [
    "path_crops = 'epidemic_scenario_files/Output/crop_stats_0_0_0.txt' \n",
    "dbt = pd.read_csv( path_crops )\n",
    "\n",
    "# calculate the proportion of chickens infected \n",
    "dbt['propInf'] = dbt['sizeInf'] / dbt['size']\n",
    "\n",
    "# select cycles within a given time window\n",
    "tmp = dbt.loc[ ( dbt['d0'] >= 1900 ) & ( dbt['d1'] < 2001 ), 'propInf' ]\n",
    "\n",
    "# proportion of cycles that experienced no infections\n",
    "prop0 = len( tmp[tmp == 0] ) / len( tmp )\n",
    "plt.scatter( 0, prop0, marker = 'o', s = 100, fc = 'white',\n",
    "             ec = 'firebrick', lw = 2, label = 'Not invaded' )\n",
    "\n",
    "# plot histogram of  (conditional on ar > 0)\n",
    "cts, bins = np.histogram( tmp[tmp > 0], bins = np.linspace( 0, 1, 21 ) )\n",
    "plt.plot( bins[:-1] + 0.5*np.diff(bins), cts / cts.sum(), lw = 2, color = 'black', label = 'Invaded',\n",
    "        marker = 'o')\n",
    "\n",
    "plt.xlabel( 'Proportion of infected chickens' )\n",
    "plt.ylabel( 'Proportion of cycles' )\n",
    "\n",
    "plt.legend()"
   ]
  },
  {
   "cell_type": "code",
   "execution_count": null,
   "id": "26ba7329",
   "metadata": {},
   "outputs": [],
   "source": []
  }
 ],
 "metadata": {
  "kernelspec": {
   "display_name": "geopandas_env",
   "language": "python",
   "name": "geopandas_env"
  },
  "language_info": {
   "codemirror_mode": {
    "name": "ipython",
    "version": 3
   },
   "file_extension": ".py",
   "mimetype": "text/x-python",
   "name": "python",
   "nbconvert_exporter": "python",
   "pygments_lexer": "ipython3",
   "version": "3.9.13"
  }
 },
 "nbformat": 4,
 "nbformat_minor": 5
}
